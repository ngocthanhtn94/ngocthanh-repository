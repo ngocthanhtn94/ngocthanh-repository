{
 "cells": [
  {
   "cell_type": "markdown",
   "id": "2f1b9baa-58c7-4502-839f-63e12f1ddeae",
   "metadata": {},
   "source": [
    "## Bài 1\n",
    "Viết chương trình nhập vào 2 số nguyên `num1` và `num2`. In ra tích của 2 số nguyên đó."
   ]
  },
  {
   "cell_type": "code",
   "execution_count": 16,
   "id": "ba0cf7c1-a0a4-4f79-893a-1bd48168be37",
   "metadata": {},
   "outputs": [
    {
     "name": "stdin",
     "output_type": "stream",
     "text": [
      "Please enter num1: 10\n",
      "Please enter num2: 5\n"
     ]
    },
    {
     "name": "stdout",
     "output_type": "stream",
     "text": [
      "10*5=50\n"
     ]
    }
   ],
   "source": [
    "num1=int(input('Please enter num1:'))# yêu cầu nhập số nguyên thứ nhất\n",
    "num2=int(input('Please enter num2:'))# yêu cầu nhập số nguyên thứ hai\n",
    "result=num1*num2\n",
    "print(f'{num1}*{num2}={result}') # tích của 2 số nguyên"
   ]
  },
  {
   "cell_type": "markdown",
   "id": "780bf705-3d4e-46e0-99fa-1db1d9ca8264",
   "metadata": {},
   "source": [
    "## Bài 2 \n",
    "Nhập vào ba biến `diem_toan`, `diem_ly`, `diem_hoa` và in ra điểm trung bình của ba môn học trên."
   ]
  },
  {
   "cell_type": "code",
   "execution_count": 40,
   "id": "7ef7acf9-9215-42bb-bef9-83f5fd281950",
   "metadata": {},
   "outputs": [
    {
     "name": "stdin",
     "output_type": "stream",
     "text": [
      "Please enter Math score: 6\n",
      "Please enter Physics score: 9\n",
      "Please enter Chemistry score: 8\n"
     ]
    },
    {
     "name": "stdout",
     "output_type": "stream",
     "text": [
      "Average: 7.666666666666667\n"
     ]
    }
   ],
   "source": [
    "diem_toan=float(input('Please enter Math score:'))\n",
    "diem_ly=float(input('Please enter Physics score:'))\n",
    "diem_hoa=float(input('Please enter Chemistry score:'))\n",
    "average=(diem_toan+diem_ly+diem_hoa)/3\n",
    "print(f'Average: {average}')"
   ]
  },
  {
   "cell_type": "markdown",
   "id": "cc0a57dc-6288-4261-98f3-b8a3c789830d",
   "metadata": {},
   "source": [
    "## Bài 3\n",
    "Nhập vào vận tốc của đoàn tàu theo đơn vị km/h.\n",
    "\n",
    "a. Hỏi trung bình mỗi phút đoàn tàu đi được bao nhiêu mét?\n",
    "\n",
    "b. Sau 1 giờ 12 phút đoàn tàu đi được bao nhiêu km?"
   ]
  },
  {
   "cell_type": "code",
   "execution_count": 48,
   "id": "3cde3692-c441-4482-b619-ffd71c47caa4",
   "metadata": {},
   "outputs": [
    {
     "name": "stdin",
     "output_type": "stream",
     "text": [
      "Please enter the speed of the train:   33\n"
     ]
    },
    {
     "name": "stdout",
     "output_type": "stream",
     "text": [
      "Distance/min:550.0 m\n",
      "Distance/72min:39.6 km\n"
     ]
    }
   ],
   "source": [
    "v_kmph=int(input('Please enter the speed of the train:  '))\n",
    "#a.Trung bình mỗi phút đoàn tàu đi được bao nhiêu mét?\n",
    "v_mph=v_kmph*1000/60\n",
    "print(f'Distance/min:{v_mph} m')\n",
    "\n",
    "#b.Sau 1 giờ 12 phút đoàn tàu đi được bao nhiêu km?\n",
    "s_72min=v_kmph*72/60\n",
    "print(f'Distance/72min:{s_72min} km')"
   ]
  }
 ],
 "metadata": {
  "kernelspec": {
   "display_name": "Python 3 (ipykernel)",
   "language": "python",
   "name": "python3"
  },
  "language_info": {
   "codemirror_mode": {
    "name": "ipython",
    "version": 3
   },
   "file_extension": ".py",
   "mimetype": "text/x-python",
   "name": "python",
   "nbconvert_exporter": "python",
   "pygments_lexer": "ipython3",
   "version": "3.11.8"
  }
 },
 "nbformat": 4,
 "nbformat_minor": 5
}
